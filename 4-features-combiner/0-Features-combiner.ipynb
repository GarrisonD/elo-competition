{
 "cells": [
  {
   "cell_type": "code",
   "execution_count": 1,
   "metadata": {},
   "outputs": [],
   "source": [
    "%run ../0-utils/0-Base.ipynb"
   ]
  },
  {
   "cell_type": "markdown",
   "metadata": {},
   "source": [
    "Define some global variables:"
   ]
  },
  {
   "cell_type": "code",
   "execution_count": 45,
   "metadata": {},
   "outputs": [],
   "source": [
    "SOURCE_PATH_PREFIX = \"../data/3-feature-engineered/train\"\n",
    "TARGET_PATH_PREFIX = \"../data/4-features-combined/train\""
   ]
  },
  {
   "cell_type": "markdown",
   "metadata": {},
   "source": [
    "Read a list of all available feature sets:"
   ]
  },
  {
   "cell_type": "code",
   "execution_count": 30,
   "metadata": {
    "scrolled": false
   },
   "outputs": [
    {
     "name": "stdout",
     "output_type": "stream",
     "text": [
      "Loading purchase_amount.npy...\n",
      "Loading purchase_amount_by_authorized_flag.npy...\n",
      "Loaded 2 feature sets!\n"
     ]
    }
   ],
   "source": [
    "import os\n",
    "\n",
    "feature_sets = []\n",
    "\n",
    "for file_name in os.listdir(SOURCE_PATH_PREFIX):\n",
    "    if file_name.startswith(\".\") or file_name == \"y.npy\": continue\n",
    "    \n",
    "    print(\"Loading %s...\" % file_name)\n",
    "    \n",
    "    feature_set_file_path = f\"{SOURCE_PATH_PREFIX}/{file_name}\"\n",
    "    feature_set = np.load(feature_set_file_path)\n",
    "    feature_sets.append(feature_set)\n",
    "\n",
    "print(\"Loaded %d feature sets!\" % len(feature_sets))"
   ]
  },
  {
   "cell_type": "markdown",
   "metadata": {},
   "source": [
    "Combine feature sets into one `numpy.ndarray`:"
   ]
  },
  {
   "cell_type": "code",
   "execution_count": 43,
   "metadata": {
    "scrolled": true
   },
   "outputs": [
    {
     "data": {
      "text/plain": [
       "(42312, 15, 9)"
      ]
     },
     "execution_count": 43,
     "metadata": {},
     "output_type": "execute_result"
    }
   ],
   "source": [
    "X = np.concatenate(feature_sets, axis=2); X.shape"
   ]
  },
  {
   "cell_type": "markdown",
   "metadata": {},
   "source": [
    "Perform feature scaling and missing values imputation:"
   ]
  },
  {
   "cell_type": "code",
   "execution_count": 44,
   "metadata": {},
   "outputs": [],
   "source": [
    "from sklearn.preprocessing import MinMaxScaler\n",
    "\n",
    "X = X.reshape(-1, 9)\n",
    "\n",
    "# feature scaling\n",
    "X = MinMaxScaler().fit_transform(X)\n",
    "\n",
    "# missing values imputation\n",
    "X[np.isnan(X)] = -1\n",
    "\n",
    "X = X.reshape(-1, 15, 9)"
   ]
  },
  {
   "cell_type": "markdown",
   "metadata": {},
   "source": [
    "Save the data for _training_ / _testing_:"
   ]
  },
  {
   "cell_type": "code",
   "execution_count": 49,
   "metadata": {},
   "outputs": [],
   "source": [
    "from shutil import copyfile\n",
    "\n",
    "np.save(f\"{TARGET_PATH_PREFIX}/X.npy\", X)\n",
    "\n",
    "copyfile(f\"{SOURCE_PATH_PREFIX}/y.npy\",\n",
    "         f\"{TARGET_PATH_PREFIX}/y.npy\");"
   ]
  }
 ],
 "metadata": {
  "jupytext": {
   "main_language": "python",
   "text_representation": {
    "extension": ".py",
    "format_name": "light",
    "format_version": "1.3",
    "jupytext_version": "0.8.6"
   }
  },
  "kernelspec": {
   "display_name": "Python 3",
   "language": "python",
   "name": "python3"
  },
  "language_info": {
   "codemirror_mode": {
    "name": "ipython",
    "version": 3
   },
   "file_extension": ".py",
   "mimetype": "text/x-python",
   "name": "python",
   "nbconvert_exporter": "python",
   "pygments_lexer": "ipython3",
   "version": "3.6.8"
  }
 },
 "nbformat": 4,
 "nbformat_minor": 2
}
