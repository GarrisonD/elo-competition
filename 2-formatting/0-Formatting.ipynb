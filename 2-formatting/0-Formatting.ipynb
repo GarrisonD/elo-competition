{
 "cells": [
  {
   "cell_type": "code",
   "execution_count": 1,
   "metadata": {},
   "outputs": [],
   "source": [
    "%run ../0-utils/0-Base.ipynb"
   ]
  },
  {
   "cell_type": "markdown",
   "metadata": {},
   "source": [
    "Define a function for formatting a `DataFrame` with transactions:"
   ]
  },
  {
   "cell_type": "code",
   "execution_count": 2,
   "metadata": {},
   "outputs": [],
   "source": [
    "CAT_COLS_MAPPING = dict(\n",
    "    authorized_flag=dict(\n",
    "        Y=1,\n",
    "        N=0,\n",
    "    ),\n",
    "    category_1=dict(\n",
    "        Y=1,\n",
    "        N=0,\n",
    "    ),\n",
    "    category_3=dict(\n",
    "        A=0,\n",
    "        B=1,\n",
    "        C=2,\n",
    "    ),\n",
    ")\n",
    "\n",
    "CAT_COLS = (\"authorized_flag\",\n",
    "            \"category_1\",\n",
    "            \"category_2\",\n",
    "            \"category_3\")\n",
    "\n",
    "def process_transactions_df(df):\n",
    "    for col, mapping in CAT_COLS_MAPPING.items(): df[col] = df[col].map(mapping)\n",
    "    for col in CAT_COLS: df[col] = df[col].fillna(-1).astype(np.int)\n",
    "    return df"
   ]
  },
  {
   "cell_type": "markdown",
   "metadata": {},
   "source": [
    "Define a function for processing a specific partition:"
   ]
  },
  {
   "cell_type": "code",
   "execution_count": 3,
   "metadata": {
    "scrolled": false
   },
   "outputs": [],
   "source": [
    "import os\n",
    "\n",
    "from shutil import copyfile\n",
    "\n",
    "def process_part(part):\n",
    "    source_part_dir_path = \"../data/1-partitioned/%03d\" % part\n",
    "    target_part_dir_path = \"../data/2-formatted/%03d\"   % part\n",
    "    \n",
    "    if not os.path.exists(target_part_dir_path): os.mkdir(target_part_dir_path)\n",
    "    \n",
    "    source_transactions_file_path = source_part_dir_path + \"/transactions.csv\"\n",
    "    target_transactions_file_path = target_part_dir_path + \"/transactions.csv\"\n",
    "    \n",
    "    transactions_df = pd.read_csv(source_transactions_file_path)\n",
    "    transactions_df = process_transactions_df(transactions_df)\n",
    "    transactions_df.to_csv(target_transactions_file_path)\n",
    "    \n",
    "    for file_name in (\"train.csv\", \"test.csv\"):\n",
    "        copyfile(source_part_dir_path + \"/\" + file_name,\n",
    "                 target_part_dir_path + \"/\" + file_name)\n",
    "\n",
    "# process_part(13)"
   ]
  },
  {
   "cell_type": "markdown",
   "metadata": {},
   "source": [
    "Perform formatting of transactions:"
   ]
  },
  {
   "cell_type": "code",
   "execution_count": 4,
   "metadata": {},
   "outputs": [
    {
     "name": "stdout",
     "output_type": "stream",
     "text": [
      "CPU times: user 73.1 ms, sys: 44.1 ms, total: 117 ms\n",
      "Wall time: 1min 32s\n"
     ]
    }
   ],
   "source": [
    "%%time\n",
    "\n",
    "from multiprocessing import Pool\n",
    "\n",
    "with Pool(8) as p: p.map(process_part, range(TRANSACTIONS_N_PARTS))"
   ]
  }
 ],
 "metadata": {
  "kernelspec": {
   "display_name": "Python 3",
   "language": "python",
   "name": "python3"
  },
  "language_info": {
   "codemirror_mode": {
    "name": "ipython",
    "version": 3
   },
   "file_extension": ".py",
   "mimetype": "text/x-python",
   "name": "python",
   "nbconvert_exporter": "python",
   "pygments_lexer": "ipython3",
   "version": "3.6.8"
  }
 },
 "nbformat": 4,
 "nbformat_minor": 2
}
