{
 "cells": [
  {
   "cell_type": "code",
   "execution_count": 1,
   "metadata": {},
   "outputs": [],
   "source": [
    "%run 0-Base.py"
   ]
  },
  {
   "cell_type": "code",
   "execution_count": 2,
   "metadata": {},
   "outputs": [],
   "source": [
    "SOURCE_PATH = f'{DATA_PATH}/5-scaled'"
   ]
  },
  {
   "cell_type": "markdown",
   "metadata": {},
   "source": [
    "Define a dataset:"
   ]
  },
  {
   "cell_type": "code",
   "execution_count": 3,
   "metadata": {
    "lines_to_end_of_cell_marker": 2,
    "lines_to_next_cell": 2
   },
   "outputs": [],
   "source": [
    "from torch.utils.data import Dataset\n",
    "\n",
    "class EloDataset(Dataset):\n",
    "    def __init__(self, X, y=None):\n",
    "        self.X = X\n",
    "        self.y = y\n",
    "\n",
    "    def __len__(self):\n",
    "        return self.X.shape[0]\n",
    "\n",
    "    def __getitem__(self, index):\n",
    "        if self.y is not None:\n",
    "            return self.X[index], self.y[index]\n",
    "        else:\n",
    "            return self.X[index]"
   ]
  },
  {
   "cell_type": "markdown",
   "metadata": {},
   "source": [
    "Define *train* and *valid* data loaders:"
   ]
  },
  {
   "cell_type": "code",
   "execution_count": 4,
   "metadata": {},
   "outputs": [],
   "source": [
    "from sklearn.model_selection import train_test_split\n",
    "\n",
    "from torch.utils.data import DataLoader\n",
    "\n",
    "X = np.load(f'{SOURCE_PATH}/train/X.npy').astype(np.float32)\n",
    "y = np.load(f'{SOURCE_PATH}/train/y.npy').astype(np.float32)\n",
    "\n",
    "X_train, X_valid, y_train, y_valid = train_test_split(X, y, random_state=13)\n",
    "\n",
    "train_dataset = EloDataset(X_train, y_train)\n",
    "valid_dataset = EloDataset(X_valid, y_valid)\n",
    "\n",
    "kwargs = dict(shuffle=True)\n",
    "\n",
    "train_loader = DataLoader(train_dataset, batch_size=2**5,  **kwargs)\n",
    "valid_loader = DataLoader(valid_dataset, batch_size=2**13, **kwargs)"
   ]
  },
  {
   "cell_type": "markdown",
   "metadata": {},
   "source": [
    "Define a device that will be used for training / evaluation:"
   ]
  },
  {
   "cell_type": "code",
   "execution_count": 5,
   "metadata": {},
   "outputs": [],
   "source": [
    "import torch\n",
    "\n",
    "device = 'cuda' if torch.cuda.is_available() else 'cpu'"
   ]
  },
  {
   "cell_type": "code",
   "execution_count": 12,
   "metadata": {
    "lines_to_next_cell": 1
   },
   "outputs": [],
   "source": [
    "from torch import nn\n",
    "\n",
    "import torch.nn.functional as F\n",
    "\n",
    "class Regressor(nn.Module):\n",
    "    def __init__(self):\n",
    "        super().__init__()\n",
    "\n",
    "        self.old_transactions_lstm = nn.LSTM(input_size=29,\n",
    "                                             hidden_size=64,\n",
    "                                             num_layers=2,\n",
    "                                             dropout=0.5,\n",
    "                                             batch_first=True)\n",
    "\n",
    "        self.new_transactions_lstm = nn.LSTM(input_size=29,\n",
    "                                             hidden_size=64,\n",
    "                                             num_layers=2,\n",
    "                                             dropout=0.5,\n",
    "                                             batch_first=True)\n",
    "\n",
    "        self.tail = nn.Sequential(nn.Linear(128, 64),\n",
    "                                  nn.BatchNorm1d(64),\n",
    "                                  nn.PReLU(),\n",
    "                                  nn.Dropout(),\n",
    "                                  # ---\n",
    "                                  nn.Linear(64, 32),\n",
    "                                  nn.BatchNorm1d(32),\n",
    "                                  nn.PReLU(),\n",
    "                                  nn.Dropout(),\n",
    "                                  # ---\n",
    "                                  nn.Linear(32, 1))\n",
    "\n",
    "    def forward(self, X):\n",
    "        out1, _ = self.old_transactions_lstm(X[:,   :-3])\n",
    "        out2, _ = self.new_transactions_lstm(X[:, -3:  ])\n",
    "\n",
    "        # get only the last item\n",
    "        # see many-to-one LSTM arch\n",
    "        out1 = out1[:, -1]\n",
    "        out2 = out2[:, -1]\n",
    "\n",
    "        out = torch.cat((out1, out2), dim=1)\n",
    "        out = self.tail(out)\n",
    "        return out"
   ]
  },
  {
   "cell_type": "code",
   "execution_count": null,
   "metadata": {},
   "outputs": [],
   "source": [
    "from torch import optim\n",
    "from tqdm.auto import tqdm\n",
    "from torch.utils.tensorboard import SummaryWriter\n",
    "\n",
    "model = Regressor().to(device)\n",
    "criterion = nn.MSELoss(reduction='sum')\n",
    "optimizer = optim.Adam(model.parameters(), lr=5e-4)\n",
    "\n",
    "n_epochs = 35\n",
    "valid_loss_min = np.Inf\n",
    "writer = SummaryWriter('runs/origin')\n",
    "\n",
    "for epoch in tqdm(range(n_epochs)):\n",
    "    cum_train_loss = 0.\n",
    "    cum_valid_loss = 0.\n",
    "\n",
    "    for X, y in tqdm(train_loader):\n",
    "        X, y = X.to(device), y.to(device)\n",
    "\n",
    "        model.train()\n",
    "\n",
    "        # ZERO PREVIOUS GRADS\n",
    "        optimizer.zero_grad()\n",
    "\n",
    "        y_pred = model.forward(X)\n",
    "        assert y.shape == y_pred.shape\n",
    "        loss = criterion(y_pred, y)\n",
    "\n",
    "        loss.backward()\n",
    "        optimizer.step()\n",
    "\n",
    "        cum_train_loss += loss.item()\n",
    "\n",
    "    model.eval()\n",
    "\n",
    "    with torch.no_grad():\n",
    "        for X, y in valid_loader:\n",
    "            X, y = X.to(device), y.to(device)\n",
    "\n",
    "            y_pred = model.forward(X)\n",
    "            assert y.shape == y_pred.shape\n",
    "            loss = criterion(y_pred, y)\n",
    "\n",
    "            cum_valid_loss += loss.item()\n",
    "\n",
    "    train_loss = (cum_train_loss / X_train.shape[0]) ** 0.5\n",
    "    valid_loss = (cum_valid_loss / X_valid.shape[0]) ** 0.5\n",
    "\n",
    "    if valid_loss < valid_loss_min:\n",
    "        print('Validation loss decreased: %.5f => %.5f | Saving model...' % (valid_loss_min, valid_loss))\n",
    "        torch.save(model.state_dict(), 'model.pt')\n",
    "        valid_loss_min = valid_loss\n",
    "\n",
    "    writer.add_scalars('loss', dict(train_loss=train_loss, valid_loss=valid_loss), epoch)"
   ]
  },
  {
   "cell_type": "code",
   "execution_count": 14,
   "metadata": {},
   "outputs": [
    {
     "name": "stdout",
     "output_type": "stream",
     "text": [
      "Validation loss: 3.68347\n"
     ]
    },
    {
     "data": {
      "image/png": "[encoded data removed]",
      "text/plain": [
       "<Figure size 432x288 with 1 Axes>"
      ]
     },
     "metadata": {
      "needs_background": "light"
     },
     "output_type": "display_data"
    }
   ],
   "source": [
    "criterion = nn.MSELoss(reduction='sum')\n",
    "\n",
    "model = Regressor().to(device).eval()\n",
    "model_state_dict = torch.load('model.pt')\n",
    "model.load_state_dict(model_state_dict)\n",
    "\n",
    "y_valid_pred = []\n",
    "cum_valid_loss = 0.\n",
    "\n",
    "with torch.no_grad():\n",
    "    for X, y in valid_loader:\n",
    "        X, y = X.to(device), y.to(device)\n",
    "\n",
    "        y_pred = model.forward(X)\n",
    "        y_valid_pred.append(y_pred.cpu().numpy())\n",
    "\n",
    "        assert y.shape == y_pred.shape\n",
    "        loss = criterion(y_pred, y)\n",
    "\n",
    "        cum_valid_loss += loss.item()\n",
    "\n",
    "y_valid_pred = np.concatenate(y_valid_pred)\n",
    "assert y_valid.shape == y_valid_pred.shape\n",
    "\n",
    "valid_loss = (cum_valid_loss / X_valid.shape[0]) ** 0.5\n",
    "print('Validation loss: %.5f' % valid_loss)\n",
    "\n",
    "plt.scatter(y_valid, y_valid_pred, s=0.25);"
   ]
  },
  {
   "cell_type": "code",
   "execution_count": 15,
   "metadata": {},
   "outputs": [
    {
     "data": {
      "text/plain": [
       "array([[-0.2682315 ],\n",
       "       [-0.73096037],\n",
       "       [ 0.6386731 ],\n",
       "       ...,\n",
       "       [-2.9031792 ],\n",
       "       [-0.27822316],\n",
       "       [ 0.01971763]], dtype=float32)"
      ]
     },
     "metadata": {},
     "output_type": "display_data"
    }
   ],
   "source": [
    "X_test, y_test = np.load(f'{SOURCE_PATH}/test/X.npy').astype(np.float32), []\n",
    "\n",
    "test_dataset = EloDataset(X_test)\n",
    "\n",
    "test_loader = DataLoader(test_dataset, batch_size=2**13)\n",
    "\n",
    "with torch.no_grad():\n",
    "    for X in test_loader:\n",
    "        X = X.to(device)\n",
    "        y_pred = model.forward(X)\n",
    "        y_test.append(y_pred.cpu().numpy())\n",
    "\n",
    "y_test = np.concatenate(y_test)\n",
    "display(y_test)"
   ]
  },
  {
   "cell_type": "code",
   "execution_count": 16,
   "metadata": {},
   "outputs": [
    {
     "data": {
      "text/html": [
       "<div>\n",
       "<style scoped>\n",
       "    .dataframe tbody tr th:only-of-type {\n",
       "        vertical-align: middle;\n",
       "    }\n",
       "\n",
       "    .dataframe tbody tr th {\n",
       "        vertical-align: top;\n",
       "    }\n",
       "\n",
       "    .dataframe thead th {\n",
       "        text-align: right;\n",
       "    }\n",
       "</style>\n",
       "<table border=\"1\" class=\"dataframe\">\n",
       "  <thead>\n",
       "    <tr style=\"text-align: right;\">\n",
       "      <th></th>\n",
       "      <th>card_id</th>\n",
       "      <th>target</th>\n",
       "    </tr>\n",
       "  </thead>\n",
       "  <tbody>\n",
       "    <tr>\n",
       "      <th>9030</th>\n",
       "      <td>C_ID_0001238066</td>\n",
       "      <td>-0.268232</td>\n",
       "    </tr>\n",
       "    <tr>\n",
       "      <th>48429</th>\n",
       "      <td>C_ID_0001793786</td>\n",
       "      <td>-0.730960</td>\n",
       "    </tr>\n",
       "    <tr>\n",
       "      <th>59611</th>\n",
       "      <td>C_ID_00024e244b</td>\n",
       "      <td>0.638673</td>\n",
       "    </tr>\n",
       "    <tr>\n",
       "      <th>22596</th>\n",
       "      <td>C_ID_0002709b5a</td>\n",
       "      <td>-0.214165</td>\n",
       "    </tr>\n",
       "    <tr>\n",
       "      <th>65546</th>\n",
       "      <td>C_ID_000298032a</td>\n",
       "      <td>-0.205345</td>\n",
       "    </tr>\n",
       "    <tr>\n",
       "      <th>...</th>\n",
       "      <td>...</td>\n",
       "      <td>...</td>\n",
       "    </tr>\n",
       "    <tr>\n",
       "      <th>57732</th>\n",
       "      <td>C_ID_fffd337484</td>\n",
       "      <td>-1.802034</td>\n",
       "    </tr>\n",
       "    <tr>\n",
       "      <th>19017</th>\n",
       "      <td>C_ID_fffd345048</td>\n",
       "      <td>-0.221650</td>\n",
       "    </tr>\n",
       "    <tr>\n",
       "      <th>39078</th>\n",
       "      <td>C_ID_fffd943b91</td>\n",
       "      <td>-2.903179</td>\n",
       "    </tr>\n",
       "    <tr>\n",
       "      <th>49255</th>\n",
       "      <td>C_ID_ffff1d9928</td>\n",
       "      <td>-0.278223</td>\n",
       "    </tr>\n",
       "    <tr>\n",
       "      <th>80604</th>\n",
       "      <td>C_ID_ffff756266</td>\n",
       "      <td>0.019718</td>\n",
       "    </tr>\n",
       "  </tbody>\n",
       "</table>\n",
       "<p>123623 rows × 2 columns</p>\n",
       "</div>"
      ],
      "text/plain": [
       "               card_id    target\n",
       "9030   C_ID_0001238066 -0.268232\n",
       "48429  C_ID_0001793786 -0.730960\n",
       "59611  C_ID_00024e244b  0.638673\n",
       "22596  C_ID_0002709b5a -0.214165\n",
       "65546  C_ID_000298032a -0.205345\n",
       "...                ...       ...\n",
       "57732  C_ID_fffd337484 -1.802034\n",
       "19017  C_ID_fffd345048 -0.221650\n",
       "39078  C_ID_fffd943b91 -2.903179\n",
       "49255  C_ID_ffff1d9928 -0.278223\n",
       "80604  C_ID_ffff756266  0.019718\n",
       "\n",
       "[123623 rows x 2 columns]"
      ]
     },
     "metadata": {},
     "output_type": "display_data"
    }
   ],
   "source": [
    "submission_df = pd.read_csv(f'{DATA_PATH}/raw/sample_submission.csv').sort_values('card_id')\n",
    "submission_df.target = y_test\n",
    "display(submission_df)\n",
    "\n",
    "submission_df.to_csv('submission.csv', index=False)"
   ]
  }
 ],
 "metadata": {
  "jupytext": {
   "formats": "ipynb,py:light"
  },
  "kernelspec": {
   "display_name": "Python 3",
   "language": "python",
   "name": "python3"
  },
  "language_info": {
   "codemirror_mode": {
    "name": "ipython",
    "version": 3
   },
   "file_extension": ".py",
   "mimetype": "text/x-python",
   "name": "python",
   "nbconvert_exporter": "python",
   "pygments_lexer": "ipython3",
   "version": "3.7.3"
  }
 },
 "nbformat": 4,
 "nbformat_minor": 4
}
