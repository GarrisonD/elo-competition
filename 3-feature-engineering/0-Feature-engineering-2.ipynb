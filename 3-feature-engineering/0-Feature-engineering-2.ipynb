{
 "cells": [
  {
   "cell_type": "code",
   "execution_count": 1,
   "metadata": {},
   "outputs": [],
   "source": [
    "%run ../0-utils/0-Base.ipynb"
   ]
  },
  {
   "cell_type": "code",
   "execution_count": 2,
   "metadata": {},
   "outputs": [],
   "source": [
    "PARTS_DIR_PATH = \"../data/2-formatted\"\n",
    "\n",
    "def read_part_customers_df(part, clazz):\n",
    "    return pd.read_csv(f\"{PARTS_DIR_PATH}/%03d/{clazz}.csv\" % part)\n",
    "\n",
    "def read_part_transactions_df(part):\n",
    "    return pd.read_csv(f\"{PARTS_DIR_PATH}/%03d/transactions.csv\" % part, parse_dates=[\"purchase_date\"])"
   ]
  },
  {
   "cell_type": "code",
   "execution_count": 3,
   "metadata": {},
   "outputs": [
    {
     "data": {
      "text/plain": [
       "PeriodIndex(['2017-01', '2017-02', '2017-03', '2017-04', '2017-05', '2017-06',\n",
       "             '2017-07', '2017-08', '2017-09', '2017-10', '2017-11', '2017-12',\n",
       "             '2018-01', '2018-02', '2018-03'],\n",
       "            dtype='period[M]', freq='M')"
      ]
     },
     "metadata": {},
     "output_type": "display_data"
    }
   ],
   "source": [
    "dates = pd.date_range(start=\"2017-01\", end=\"2018-04\", freq=\"M\").to_period(\"M\"); display(dates)"
   ]
  },
  {
   "cell_type": "code",
   "execution_count": 4,
   "metadata": {},
   "outputs": [],
   "source": [
    "agg = dict(purchase_amount=(\"min\", \"mean\", \"max\"))"
   ]
  },
  {
   "cell_type": "code",
   "execution_count": 5,
   "metadata": {
    "scrolled": false
   },
   "outputs": [],
   "source": [
    "def process_part(part, clazz):\n",
    "    part_customers_df = read_part_customers_df(part, clazz)\n",
    "    max_num_customers = int(part_customers_df.shape[0] / 5)\n",
    "    \n",
    "    part_transactions_df = read_part_transactions_df(part)\n",
    "    \n",
    "    part_transactions_df = part_transactions_df.assign(\n",
    "        year=part_transactions_df.purchase_date.dt.year,\n",
    "        month=part_transactions_df.purchase_date.dt.month,\n",
    "    )\n",
    "    \n",
    "    part_transactions_df = part_transactions_df. \\\n",
    "        set_index([\"card_id\", \"year\", \"month\"]). \\\n",
    "        sort_index()\n",
    "    \n",
    "    X, y = [], []\n",
    "        \n",
    "    for customer in part_customers_df.itertuples(index=False):\n",
    "        if clazz == \"train\" and max_num_customers < 0 and customer.target > -33: continue\n",
    "        \n",
    "        X_parts = []\n",
    "        \n",
    "        for date in dates:\n",
    "            ix = (customer.card_id, date.year, date.month)\n",
    "            \n",
    "            if not part_transactions_df.index.contains(ix):\n",
    "                X_part = np.empty((1, 9))\n",
    "                X_part.fill(np.nan)\n",
    "            else:\n",
    "                transactions_df = part_transactions_df.loc[ix]\n",
    "                \n",
    "                x1 = transactions_df.agg(agg).T.values\n",
    "                x2 = transactions_df[transactions_df.authorized_flag == \"Y\"].agg(agg).T.values\n",
    "                x3 = transactions_df[transactions_df.authorized_flag == \"N\"].agg(agg).T.values\n",
    "                \n",
    "                X_part = np.concatenate((x1, x2, x3), axis=1)\n",
    "                \n",
    "            X_parts.append(X_part)\n",
    "        \n",
    "        X.append(np.concatenate(X_parts))\n",
    "\n",
    "        if clazz == \"train\":\n",
    "            y.append(customer.target)\n",
    "            \n",
    "        max_num_customers -= 1\n",
    "        \n",
    "    return X, y\n",
    "\n",
    "def process_train_part(part): return process_part(part, \"train\")\n",
    "def process_test_part(part):  return process_part(part, \"test\")\n",
    "\n",
    "# process_train_part(11);"
   ]
  },
  {
   "cell_type": "code",
   "execution_count": 6,
   "metadata": {
    "scrolled": false
   },
   "outputs": [
    {
     "name": "stdout",
     "output_type": "stream",
     "text": [
      "CPU times: user 339 ms, sys: 170 ms, total: 509 ms\n",
      "Wall time: 8min 51s\n"
     ]
    }
   ],
   "source": [
    "%%time\n",
    "\n",
    "from multiprocessing import Pool\n",
    "\n",
    "with Pool(8) as pool: results = pool.map(process_train_part, range(TRANSACTIONS_N_PARTS))"
   ]
  },
  {
   "cell_type": "code",
   "execution_count": 102,
   "metadata": {},
   "outputs": [],
   "source": [
    "X = list(x[0] for x in results)\n",
    "X = np.concatenate(X)\n",
    "\n",
    "y = list(x[1] for x in results)\n",
    "y = np.concatenate(y)"
   ]
  },
  {
   "cell_type": "code",
   "execution_count": 103,
   "metadata": {},
   "outputs": [],
   "source": [
    "from sklearn.preprocessing import MinMaxScaler\n",
    "\n",
    "X_origin_shape = X.shape\n",
    "\n",
    "X = MinMaxScaler().fit_transform(X.reshape(-1, 9))\n",
    "\n",
    "# for months without any data\n",
    "X[np.isnan(X).all(axis=1)] = -1\n",
    "\n",
    "# for months without partial data\n",
    "X[np.isnan(X)] = 0\n",
    "\n",
    "X = X.reshape(*X_origin_shape)"
   ]
  },
  {
   "cell_type": "code",
   "execution_count": 104,
   "metadata": {
    "scrolled": false
   },
   "outputs": [],
   "source": [
    "np.save(\"../data/2-feature-engineered/X_train.npy\", X)\n",
    "np.save(\"../data/2-feature-engineered/y_train.npy\", y)"
   ]
  }
 ],
 "metadata": {
  "kernelspec": {
   "display_name": "Python 3",
   "language": "python",
   "name": "python3"
  },
  "language_info": {
   "codemirror_mode": {
    "name": "ipython",
    "version": 3
   },
   "file_extension": ".py",
   "mimetype": "text/x-python",
   "name": "python",
   "nbconvert_exporter": "python",
   "pygments_lexer": "ipython3",
   "version": "3.6.8"
  }
 },
 "nbformat": 4,
 "nbformat_minor": 1
}
