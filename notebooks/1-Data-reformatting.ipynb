{
 "cells": [
  {
   "cell_type": "code",
   "execution_count": 1,
   "metadata": {},
   "outputs": [],
   "source": [
    "%run 0-Base.ipynb"
   ]
  },
  {
   "cell_type": "code",
   "execution_count": 2,
   "metadata": {},
   "outputs": [],
   "source": [
    "SOURCE_PATH = f\"{DATA_PATH}/raw\"\n",
    "TARGET_PATH = f\"{DATA_PATH}/1-reformatted\""
   ]
  },
  {
   "cell_type": "markdown",
   "metadata": {},
   "source": [
    "#### Reformatting data about card owners:"
   ]
  },
  {
   "cell_type": "code",
   "execution_count": 32,
   "metadata": {},
   "outputs": [],
   "source": [
    "from elo_competition.data import read_card_owners_csv, reduce_mem_usage"
   ]
  },
  {
   "cell_type": "code",
   "execution_count": 33,
   "metadata": {},
   "outputs": [
    {
     "name": "stdout",
     "output_type": "stream",
     "text": [
      "CPU times: user 133 ms, sys: 2.87 ms, total: 136 ms\n",
      "Wall time: 136 ms\n",
      "CPU times: user 10.7 ms, sys: 0 ns, total: 10.7 ms\n",
      "Wall time: 10.6 ms\n"
     ]
    },
    {
     "data": {
      "text/html": [
       "<div>\n",
       "<style scoped>\n",
       "    .dataframe tbody tr th:only-of-type {\n",
       "        vertical-align: middle;\n",
       "    }\n",
       "\n",
       "    .dataframe tbody tr th {\n",
       "        vertical-align: top;\n",
       "    }\n",
       "\n",
       "    .dataframe thead th {\n",
       "        text-align: right;\n",
       "    }\n",
       "</style>\n",
       "<table border=\"1\" class=\"dataframe\">\n",
       "  <thead>\n",
       "    <tr style=\"text-align: right;\">\n",
       "      <th></th>\n",
       "      <th>first_active_month</th>\n",
       "      <th>card_id</th>\n",
       "      <th>feature_1</th>\n",
       "      <th>feature_2</th>\n",
       "      <th>feature_3</th>\n",
       "      <th>target</th>\n",
       "    </tr>\n",
       "  </thead>\n",
       "  <tbody>\n",
       "    <tr>\n",
       "      <th>0</th>\n",
       "      <td>2017-06-01</td>\n",
       "      <td>C_ID_92a2005557</td>\n",
       "      <td>5</td>\n",
       "      <td>2</td>\n",
       "      <td>1</td>\n",
       "      <td>-0.820283</td>\n",
       "    </tr>\n",
       "    <tr>\n",
       "      <th>1</th>\n",
       "      <td>2017-01-01</td>\n",
       "      <td>C_ID_3d0044924f</td>\n",
       "      <td>4</td>\n",
       "      <td>1</td>\n",
       "      <td>0</td>\n",
       "      <td>0.392913</td>\n",
       "    </tr>\n",
       "    <tr>\n",
       "      <th>2</th>\n",
       "      <td>2016-08-01</td>\n",
       "      <td>C_ID_d639edf6cd</td>\n",
       "      <td>2</td>\n",
       "      <td>2</td>\n",
       "      <td>0</td>\n",
       "      <td>0.688056</td>\n",
       "    </tr>\n",
       "    <tr>\n",
       "      <th>3</th>\n",
       "      <td>2017-09-01</td>\n",
       "      <td>C_ID_186d6a6901</td>\n",
       "      <td>4</td>\n",
       "      <td>3</td>\n",
       "      <td>0</td>\n",
       "      <td>0.142495</td>\n",
       "    </tr>\n",
       "    <tr>\n",
       "      <th>4</th>\n",
       "      <td>2017-11-01</td>\n",
       "      <td>C_ID_cdbd2c0db2</td>\n",
       "      <td>1</td>\n",
       "      <td>3</td>\n",
       "      <td>0</td>\n",
       "      <td>-0.159749</td>\n",
       "    </tr>\n",
       "    <tr>\n",
       "      <th>...</th>\n",
       "      <td>...</td>\n",
       "      <td>...</td>\n",
       "      <td>...</td>\n",
       "      <td>...</td>\n",
       "      <td>...</td>\n",
       "      <td>...</td>\n",
       "    </tr>\n",
       "    <tr>\n",
       "      <th>201912</th>\n",
       "      <td>2017-09-01</td>\n",
       "      <td>C_ID_963962de2c</td>\n",
       "      <td>3</td>\n",
       "      <td>2</td>\n",
       "      <td>1</td>\n",
       "      <td>-2.740821</td>\n",
       "    </tr>\n",
       "    <tr>\n",
       "      <th>201913</th>\n",
       "      <td>2015-10-01</td>\n",
       "      <td>C_ID_1314773c0b</td>\n",
       "      <td>3</td>\n",
       "      <td>1</td>\n",
       "      <td>1</td>\n",
       "      <td>0.312917</td>\n",
       "    </tr>\n",
       "    <tr>\n",
       "      <th>201914</th>\n",
       "      <td>2017-08-01</td>\n",
       "      <td>C_ID_7666735b3d</td>\n",
       "      <td>4</td>\n",
       "      <td>3</td>\n",
       "      <td>0</td>\n",
       "      <td>0.093494</td>\n",
       "    </tr>\n",
       "    <tr>\n",
       "      <th>201915</th>\n",
       "      <td>2016-07-01</td>\n",
       "      <td>C_ID_73f5a0efd0</td>\n",
       "      <td>3</td>\n",
       "      <td>2</td>\n",
       "      <td>1</td>\n",
       "      <td>-4.676589</td>\n",
       "    </tr>\n",
       "    <tr>\n",
       "      <th>201916</th>\n",
       "      <td>2017-07-01</td>\n",
       "      <td>C_ID_92c9984c58</td>\n",
       "      <td>3</td>\n",
       "      <td>1</td>\n",
       "      <td>1</td>\n",
       "      <td>-1.859413</td>\n",
       "    </tr>\n",
       "  </tbody>\n",
       "</table>\n",
       "<p>201917 rows × 6 columns</p>\n",
       "</div>"
      ],
      "text/plain": [
       "       first_active_month          card_id  feature_1  feature_2  feature_3  \\\n",
       "0              2017-06-01  C_ID_92a2005557          5          2          1   \n",
       "1              2017-01-01  C_ID_3d0044924f          4          1          0   \n",
       "2              2016-08-01  C_ID_d639edf6cd          2          2          0   \n",
       "3              2017-09-01  C_ID_186d6a6901          4          3          0   \n",
       "4              2017-11-01  C_ID_cdbd2c0db2          1          3          0   \n",
       "...                   ...              ...        ...        ...        ...   \n",
       "201912         2017-09-01  C_ID_963962de2c          3          2          1   \n",
       "201913         2015-10-01  C_ID_1314773c0b          3          1          1   \n",
       "201914         2017-08-01  C_ID_7666735b3d          4          3          0   \n",
       "201915         2016-07-01  C_ID_73f5a0efd0          3          2          1   \n",
       "201916         2017-07-01  C_ID_92c9984c58          3          1          1   \n",
       "\n",
       "          target  \n",
       "0      -0.820283  \n",
       "1       0.392913  \n",
       "2       0.688056  \n",
       "3       0.142495  \n",
       "4      -0.159749  \n",
       "...          ...  \n",
       "201912 -2.740821  \n",
       "201913  0.312917  \n",
       "201914  0.093494  \n",
       "201915 -4.676589  \n",
       "201916 -1.859413  \n",
       "\n",
       "[201917 rows x 6 columns]"
      ]
     },
     "metadata": {},
     "output_type": "display_data"
    },
    {
     "name": "stdout",
     "output_type": "stream",
     "text": [
      "<class 'pandas.core.frame.DataFrame'>\n",
      "RangeIndex: 201917 entries, 0 to 201916\n",
      "Data columns (total 6 columns):\n",
      " #   Column              Non-Null Count   Dtype         \n",
      "---  ------              --------------   -----         \n",
      " 0   first_active_month  201917 non-null  datetime64[ns]\n",
      " 1   card_id             201917 non-null  object        \n",
      " 2   feature_1           201917 non-null  int8          \n",
      " 3   feature_2           201917 non-null  int8          \n",
      " 4   feature_3           201917 non-null  int8          \n",
      " 5   target              201917 non-null  float32       \n",
      "dtypes: datetime64[ns](1), float32(1), int8(3), object(1)\n",
      "memory usage: 4.4+ MB\n"
     ]
    }
   ],
   "source": [
    "%time train_df = read_card_owners_csv(f\"{SOURCE_PATH}/train.csv\")\n",
    "%time train_df = reduce_mem_usage(train_df)\n",
    "display(train_df)\n",
    "train_df.info()"
   ]
  },
  {
   "cell_type": "code",
   "execution_count": 36,
   "metadata": {},
   "outputs": [],
   "source": [
    "train_df.card_id = train_df.card_id.astype(\"string\")"
   ]
  },
  {
   "cell_type": "code",
   "execution_count": 40,
   "metadata": {},
   "outputs": [
    {
     "data": {
      "text/plain": [
       "array([[Timestamp('2017-06-01 00:00:00'), 'C_ID_92a2005557', 5, 2, 1,\n",
       "        -0.8202825784683228],\n",
       "       [Timestamp('2017-01-01 00:00:00'), 'C_ID_3d0044924f', 4, 1, 0,\n",
       "        0.39291325211524963],\n",
       "       [Timestamp('2016-08-01 00:00:00'), 'C_ID_d639edf6cd', 2, 2, 0,\n",
       "        0.6880559921264648],\n",
       "       ...,\n",
       "       [Timestamp('2017-08-01 00:00:00'), 'C_ID_7666735b3d', 4, 3, 0,\n",
       "        0.09349414706230164],\n",
       "       [Timestamp('2016-07-01 00:00:00'), 'C_ID_73f5a0efd0', 3, 2, 1,\n",
       "        -4.676589488983154],\n",
       "       [Timestamp('2017-07-01 00:00:00'), 'C_ID_92c9984c58', 3, 1, 1,\n",
       "        -1.8594130277633667]], dtype=object)"
      ]
     },
     "execution_count": 40,
     "metadata": {},
     "output_type": "execute_result"
    }
   ],
   "source": [
    "train_df.values"
   ]
  },
  {
   "cell_type": "code",
   "execution_count": 5,
   "metadata": {},
   "outputs": [
    {
     "name": "stdout",
     "output_type": "stream",
     "text": [
      "<class 'pandas.core.frame.DataFrame'>\n",
      "RangeIndex: 201917 entries, 0 to 201916\n",
      "Data columns (total 6 columns):\n",
      " #   Column              Non-Null Count   Dtype         \n",
      "---  ------              --------------   -----         \n",
      " 0   first_active_month  201917 non-null  datetime64[ns]\n",
      " 1   card_id             201917 non-null  object        \n",
      " 2   feature_1           201917 non-null  int8          \n",
      " 3   feature_2           201917 non-null  int8          \n",
      " 4   feature_3           201917 non-null  int8          \n",
      " 5   target              201917 non-null  float32       \n",
      "dtypes: datetime64[ns](1), float32(1), int8(3), object(1)\n",
      "memory usage: 4.4+ MB\n"
     ]
    }
   ],
   "source": [
    "train_df.info()"
   ]
  },
  {
   "cell_type": "code",
   "execution_count": 8,
   "metadata": {},
   "outputs": [
    {
     "name": "stdout",
     "output_type": "stream",
     "text": [
      "CPU times: user 16.1 ms, sys: 9.92 ms, total: 26 ms\n",
      "Wall time: 63.2 ms\n"
     ]
    }
   ],
   "source": [
    "%time train_df.to_feather(f\"{TARGET_PATH}/train.feather\")"
   ]
  },
  {
   "cell_type": "code",
   "execution_count": 9,
   "metadata": {},
   "outputs": [
    {
     "name": "stdout",
     "output_type": "stream",
     "text": [
      "CPU times: user 85.6 ms, sys: 6.81 ms, total: 92.4 ms\n",
      "Wall time: 98 ms\n",
      "CPU times: user 6.13 ms, sys: 0 ns, total: 6.13 ms\n",
      "Wall time: 6.19 ms\n"
     ]
    },
    {
     "data": {
      "text/html": [
       "<div>\n",
       "<style scoped>\n",
       "    .dataframe tbody tr th:only-of-type {\n",
       "        vertical-align: middle;\n",
       "    }\n",
       "\n",
       "    .dataframe tbody tr th {\n",
       "        vertical-align: top;\n",
       "    }\n",
       "\n",
       "    .dataframe thead th {\n",
       "        text-align: right;\n",
       "    }\n",
       "</style>\n",
       "<table border=\"1\" class=\"dataframe\">\n",
       "  <thead>\n",
       "    <tr style=\"text-align: right;\">\n",
       "      <th></th>\n",
       "      <th>first_active_month</th>\n",
       "      <th>card_id</th>\n",
       "      <th>feature_1</th>\n",
       "      <th>feature_2</th>\n",
       "      <th>feature_3</th>\n",
       "    </tr>\n",
       "  </thead>\n",
       "  <tbody>\n",
       "    <tr>\n",
       "      <th>0</th>\n",
       "      <td>2017-04-01</td>\n",
       "      <td>C_ID_0ab67a22ab</td>\n",
       "      <td>3</td>\n",
       "      <td>3</td>\n",
       "      <td>1</td>\n",
       "    </tr>\n",
       "    <tr>\n",
       "      <th>1</th>\n",
       "      <td>2017-01-01</td>\n",
       "      <td>C_ID_130fd0cbdd</td>\n",
       "      <td>2</td>\n",
       "      <td>3</td>\n",
       "      <td>0</td>\n",
       "    </tr>\n",
       "    <tr>\n",
       "      <th>2</th>\n",
       "      <td>2017-08-01</td>\n",
       "      <td>C_ID_b709037bc5</td>\n",
       "      <td>5</td>\n",
       "      <td>1</td>\n",
       "      <td>1</td>\n",
       "    </tr>\n",
       "    <tr>\n",
       "      <th>3</th>\n",
       "      <td>2017-12-01</td>\n",
       "      <td>C_ID_d27d835a9f</td>\n",
       "      <td>2</td>\n",
       "      <td>1</td>\n",
       "      <td>0</td>\n",
       "    </tr>\n",
       "    <tr>\n",
       "      <th>4</th>\n",
       "      <td>2015-12-01</td>\n",
       "      <td>C_ID_2b5e3df5c2</td>\n",
       "      <td>5</td>\n",
       "      <td>1</td>\n",
       "      <td>1</td>\n",
       "    </tr>\n",
       "    <tr>\n",
       "      <th>...</th>\n",
       "      <td>...</td>\n",
       "      <td>...</td>\n",
       "      <td>...</td>\n",
       "      <td>...</td>\n",
       "      <td>...</td>\n",
       "    </tr>\n",
       "    <tr>\n",
       "      <th>123618</th>\n",
       "      <td>2017-10-01</td>\n",
       "      <td>C_ID_7a239d2eda</td>\n",
       "      <td>2</td>\n",
       "      <td>2</td>\n",
       "      <td>0</td>\n",
       "    </tr>\n",
       "    <tr>\n",
       "      <th>123619</th>\n",
       "      <td>2017-09-01</td>\n",
       "      <td>C_ID_75ace375ae</td>\n",
       "      <td>3</td>\n",
       "      <td>1</td>\n",
       "      <td>1</td>\n",
       "    </tr>\n",
       "    <tr>\n",
       "      <th>123620</th>\n",
       "      <td>2016-09-01</td>\n",
       "      <td>C_ID_21d56d950c</td>\n",
       "      <td>5</td>\n",
       "      <td>1</td>\n",
       "      <td>1</td>\n",
       "    </tr>\n",
       "    <tr>\n",
       "      <th>123621</th>\n",
       "      <td>2017-06-01</td>\n",
       "      <td>C_ID_6c46fc5a9d</td>\n",
       "      <td>2</td>\n",
       "      <td>1</td>\n",
       "      <td>0</td>\n",
       "    </tr>\n",
       "    <tr>\n",
       "      <th>123622</th>\n",
       "      <td>2016-10-01</td>\n",
       "      <td>C_ID_87e7979a5f</td>\n",
       "      <td>5</td>\n",
       "      <td>1</td>\n",
       "      <td>1</td>\n",
       "    </tr>\n",
       "  </tbody>\n",
       "</table>\n",
       "<p>123623 rows × 5 columns</p>\n",
       "</div>"
      ],
      "text/plain": [
       "       first_active_month          card_id  feature_1  feature_2  feature_3\n",
       "0              2017-04-01  C_ID_0ab67a22ab          3          3          1\n",
       "1              2017-01-01  C_ID_130fd0cbdd          2          3          0\n",
       "2              2017-08-01  C_ID_b709037bc5          5          1          1\n",
       "3              2017-12-01  C_ID_d27d835a9f          2          1          0\n",
       "4              2015-12-01  C_ID_2b5e3df5c2          5          1          1\n",
       "...                   ...              ...        ...        ...        ...\n",
       "123618         2017-10-01  C_ID_7a239d2eda          2          2          0\n",
       "123619         2017-09-01  C_ID_75ace375ae          3          1          1\n",
       "123620         2016-09-01  C_ID_21d56d950c          5          1          1\n",
       "123621         2017-06-01  C_ID_6c46fc5a9d          2          1          0\n",
       "123622         2016-10-01  C_ID_87e7979a5f          5          1          1\n",
       "\n",
       "[123623 rows x 5 columns]"
      ]
     },
     "metadata": {},
     "output_type": "display_data"
    }
   ],
   "source": [
    "%time test_df = read_card_owners_csv(f\"{SOURCE_PATH}/test.csv\")\n",
    "%time test_df = reduce_mem_usage(test_df)\n",
    "\n",
    "display(test_df)"
   ]
  },
  {
   "cell_type": "code",
   "execution_count": 11,
   "metadata": {},
   "outputs": [
    {
     "name": "stdout",
     "output_type": "stream",
     "text": [
      "<class 'pandas.core.frame.DataFrame'>\n",
      "RangeIndex: 123623 entries, 0 to 123622\n",
      "Data columns (total 5 columns):\n",
      " #   Column              Non-Null Count   Dtype         \n",
      "---  ------              --------------   -----         \n",
      " 0   first_active_month  123622 non-null  datetime64[ns]\n",
      " 1   card_id             123623 non-null  object        \n",
      " 2   feature_1           123623 non-null  int8          \n",
      " 3   feature_2           123623 non-null  int8          \n",
      " 4   feature_3           123623 non-null  int8          \n",
      "dtypes: datetime64[ns](1), int8(3), object(1)\n",
      "memory usage: 2.2+ MB\n"
     ]
    }
   ],
   "source": [
    "test_df.info()"
   ]
  },
  {
   "cell_type": "code",
   "execution_count": 12,
   "metadata": {},
   "outputs": [
    {
     "name": "stdout",
     "output_type": "stream",
     "text": [
      "CPU times: user 8.95 ms, sys: 3.43 ms, total: 12.4 ms\n",
      "Wall time: 10.7 ms\n"
     ]
    }
   ],
   "source": [
    "%time test_df.to_feather(f\"{TARGET_PATH}/test.feather\")"
   ]
  },
  {
   "cell_type": "markdown",
   "metadata": {},
   "source": [
    "#### Reformatting data about transactions:"
   ]
  },
  {
   "cell_type": "code",
   "execution_count": 13,
   "metadata": {},
   "outputs": [],
   "source": [
    "from elo_competition.data import read_transactions_csv, reduce_mem_usage"
   ]
  },
  {
   "cell_type": "code",
   "execution_count": 14,
   "metadata": {},
   "outputs": [
    {
     "name": "stdout",
     "output_type": "stream",
     "text": [
      "CPU times: user 29 s, sys: 2.3 s, total: 31.3 s\n",
      "Wall time: 34.7 s\n"
     ]
    },
    {
     "data": {
      "text/html": [
       "<div>\n",
       "<style scoped>\n",
       "    .dataframe tbody tr th:only-of-type {\n",
       "        vertical-align: middle;\n",
       "    }\n",
       "\n",
       "    .dataframe tbody tr th {\n",
       "        vertical-align: top;\n",
       "    }\n",
       "\n",
       "    .dataframe thead th {\n",
       "        text-align: right;\n",
       "    }\n",
       "</style>\n",
       "<table border=\"1\" class=\"dataframe\">\n",
       "  <thead>\n",
       "    <tr style=\"text-align: right;\">\n",
       "      <th></th>\n",
       "      <th>authorized_flag</th>\n",
       "      <th>card_id</th>\n",
       "      <th>installments</th>\n",
       "      <th>month_lag</th>\n",
       "      <th>purchase_amount</th>\n",
       "      <th>purchase_date</th>\n",
       "    </tr>\n",
       "  </thead>\n",
       "  <tbody>\n",
       "    <tr>\n",
       "      <th>0</th>\n",
       "      <td>True</td>\n",
       "      <td>C_ID_4e6213e9bc</td>\n",
       "      <td>0</td>\n",
       "      <td>-8</td>\n",
       "      <td>-0.703331</td>\n",
       "      <td>2017-06-25 15:33:07</td>\n",
       "    </tr>\n",
       "    <tr>\n",
       "      <th>1</th>\n",
       "      <td>True</td>\n",
       "      <td>C_ID_4e6213e9bc</td>\n",
       "      <td>0</td>\n",
       "      <td>-7</td>\n",
       "      <td>-0.733128</td>\n",
       "      <td>2017-07-15 12:10:45</td>\n",
       "    </tr>\n",
       "    <tr>\n",
       "      <th>2</th>\n",
       "      <td>True</td>\n",
       "      <td>C_ID_4e6213e9bc</td>\n",
       "      <td>0</td>\n",
       "      <td>-6</td>\n",
       "      <td>-0.720386</td>\n",
       "      <td>2017-08-09 22:04:29</td>\n",
       "    </tr>\n",
       "    <tr>\n",
       "      <th>3</th>\n",
       "      <td>True</td>\n",
       "      <td>C_ID_4e6213e9bc</td>\n",
       "      <td>0</td>\n",
       "      <td>-5</td>\n",
       "      <td>-0.735352</td>\n",
       "      <td>2017-09-02 10:06:26</td>\n",
       "    </tr>\n",
       "    <tr>\n",
       "      <th>4</th>\n",
       "      <td>True</td>\n",
       "      <td>C_ID_4e6213e9bc</td>\n",
       "      <td>0</td>\n",
       "      <td>-11</td>\n",
       "      <td>-0.722865</td>\n",
       "      <td>2017-03-10 01:14:19</td>\n",
       "    </tr>\n",
       "    <tr>\n",
       "      <th>...</th>\n",
       "      <td>...</td>\n",
       "      <td>...</td>\n",
       "      <td>...</td>\n",
       "      <td>...</td>\n",
       "      <td>...</td>\n",
       "      <td>...</td>\n",
       "    </tr>\n",
       "    <tr>\n",
       "      <th>29112356</th>\n",
       "      <td>True</td>\n",
       "      <td>C_ID_2863d2fa95</td>\n",
       "      <td>1</td>\n",
       "      <td>-1</td>\n",
       "      <td>-0.632706</td>\n",
       "      <td>2017-01-20 08:52:04</td>\n",
       "    </tr>\n",
       "    <tr>\n",
       "      <th>29112357</th>\n",
       "      <td>True</td>\n",
       "      <td>C_ID_2863d2fa95</td>\n",
       "      <td>1</td>\n",
       "      <td>0</td>\n",
       "      <td>-0.632706</td>\n",
       "      <td>2017-02-20 04:40:50</td>\n",
       "    </tr>\n",
       "    <tr>\n",
       "      <th>29112358</th>\n",
       "      <td>True</td>\n",
       "      <td>C_ID_5c240d6e3c</td>\n",
       "      <td>0</td>\n",
       "      <td>0</td>\n",
       "      <td>-0.657740</td>\n",
       "      <td>2017-12-26 18:37:51</td>\n",
       "    </tr>\n",
       "    <tr>\n",
       "      <th>29112359</th>\n",
       "      <td>True</td>\n",
       "      <td>C_ID_5c240d6e3c</td>\n",
       "      <td>0</td>\n",
       "      <td>-1</td>\n",
       "      <td>0.770620</td>\n",
       "      <td>2017-11-24 14:18:15</td>\n",
       "    </tr>\n",
       "    <tr>\n",
       "      <th>29112360</th>\n",
       "      <td>True</td>\n",
       "      <td>C_ID_5c240d6e3c</td>\n",
       "      <td>0</td>\n",
       "      <td>-2</td>\n",
       "      <td>1.134411</td>\n",
       "      <td>2017-10-26 14:09:40</td>\n",
       "    </tr>\n",
       "  </tbody>\n",
       "</table>\n",
       "<p>29112361 rows × 6 columns</p>\n",
       "</div>"
      ],
      "text/plain": [
       "          authorized_flag          card_id  installments  month_lag  \\\n",
       "0                    True  C_ID_4e6213e9bc             0         -8   \n",
       "1                    True  C_ID_4e6213e9bc             0         -7   \n",
       "2                    True  C_ID_4e6213e9bc             0         -6   \n",
       "3                    True  C_ID_4e6213e9bc             0         -5   \n",
       "4                    True  C_ID_4e6213e9bc             0        -11   \n",
       "...                   ...              ...           ...        ...   \n",
       "29112356             True  C_ID_2863d2fa95             1         -1   \n",
       "29112357             True  C_ID_2863d2fa95             1          0   \n",
       "29112358             True  C_ID_5c240d6e3c             0          0   \n",
       "29112359             True  C_ID_5c240d6e3c             0         -1   \n",
       "29112360             True  C_ID_5c240d6e3c             0         -2   \n",
       "\n",
       "          purchase_amount       purchase_date  \n",
       "0               -0.703331 2017-06-25 15:33:07  \n",
       "1               -0.733128 2017-07-15 12:10:45  \n",
       "2               -0.720386 2017-08-09 22:04:29  \n",
       "3               -0.735352 2017-09-02 10:06:26  \n",
       "4               -0.722865 2017-03-10 01:14:19  \n",
       "...                   ...                 ...  \n",
       "29112356        -0.632706 2017-01-20 08:52:04  \n",
       "29112357        -0.632706 2017-02-20 04:40:50  \n",
       "29112358        -0.657740 2017-12-26 18:37:51  \n",
       "29112359         0.770620 2017-11-24 14:18:15  \n",
       "29112360         1.134411 2017-10-26 14:09:40  \n",
       "\n",
       "[29112361 rows x 6 columns]"
      ]
     },
     "metadata": {},
     "output_type": "display_data"
    }
   ],
   "source": [
    "%time historical_transactions_df = read_transactions_csv(f\"{SOURCE_PATH}/historical_transactions.csv\")\n",
    "\n",
    "display(historical_transactions_df)"
   ]
  },
  {
   "cell_type": "code",
   "execution_count": 15,
   "metadata": {},
   "outputs": [
    {
     "name": "stdout",
     "output_type": "stream",
     "text": [
      "CPU times: user 1.89 s, sys: 83 ms, total: 1.98 s\n",
      "Wall time: 2.22 s\n"
     ]
    },
    {
     "data": {
      "text/html": [
       "<div>\n",
       "<style scoped>\n",
       "    .dataframe tbody tr th:only-of-type {\n",
       "        vertical-align: middle;\n",
       "    }\n",
       "\n",
       "    .dataframe tbody tr th {\n",
       "        vertical-align: top;\n",
       "    }\n",
       "\n",
       "    .dataframe thead th {\n",
       "        text-align: right;\n",
       "    }\n",
       "</style>\n",
       "<table border=\"1\" class=\"dataframe\">\n",
       "  <thead>\n",
       "    <tr style=\"text-align: right;\">\n",
       "      <th></th>\n",
       "      <th>authorized_flag</th>\n",
       "      <th>card_id</th>\n",
       "      <th>installments</th>\n",
       "      <th>month_lag</th>\n",
       "      <th>purchase_amount</th>\n",
       "      <th>purchase_date</th>\n",
       "    </tr>\n",
       "  </thead>\n",
       "  <tbody>\n",
       "    <tr>\n",
       "      <th>0</th>\n",
       "      <td>True</td>\n",
       "      <td>C_ID_415bb3a509</td>\n",
       "      <td>1</td>\n",
       "      <td>1</td>\n",
       "      <td>-0.557574</td>\n",
       "      <td>2018-03-11 14:57:36</td>\n",
       "    </tr>\n",
       "    <tr>\n",
       "      <th>1</th>\n",
       "      <td>True</td>\n",
       "      <td>C_ID_415bb3a509</td>\n",
       "      <td>1</td>\n",
       "      <td>1</td>\n",
       "      <td>-0.569580</td>\n",
       "      <td>2018-03-19 18:53:37</td>\n",
       "    </tr>\n",
       "    <tr>\n",
       "      <th>2</th>\n",
       "      <td>True</td>\n",
       "      <td>C_ID_415bb3a509</td>\n",
       "      <td>1</td>\n",
       "      <td>2</td>\n",
       "      <td>-0.551037</td>\n",
       "      <td>2018-04-26 14:08:44</td>\n",
       "    </tr>\n",
       "    <tr>\n",
       "      <th>3</th>\n",
       "      <td>True</td>\n",
       "      <td>C_ID_415bb3a509</td>\n",
       "      <td>1</td>\n",
       "      <td>1</td>\n",
       "      <td>-0.671925</td>\n",
       "      <td>2018-03-07 09:43:21</td>\n",
       "    </tr>\n",
       "    <tr>\n",
       "      <th>4</th>\n",
       "      <td>True</td>\n",
       "      <td>C_ID_ef55cf8d4b</td>\n",
       "      <td>1</td>\n",
       "      <td>1</td>\n",
       "      <td>-0.659904</td>\n",
       "      <td>2018-03-22 21:07:53</td>\n",
       "    </tr>\n",
       "    <tr>\n",
       "      <th>...</th>\n",
       "      <td>...</td>\n",
       "      <td>...</td>\n",
       "      <td>...</td>\n",
       "      <td>...</td>\n",
       "      <td>...</td>\n",
       "      <td>...</td>\n",
       "    </tr>\n",
       "    <tr>\n",
       "      <th>1963026</th>\n",
       "      <td>True</td>\n",
       "      <td>C_ID_1320dee851</td>\n",
       "      <td>0</td>\n",
       "      <td>2</td>\n",
       "      <td>-0.701828</td>\n",
       "      <td>2018-04-06 14:36:52</td>\n",
       "    </tr>\n",
       "    <tr>\n",
       "      <th>1963027</th>\n",
       "      <td>True</td>\n",
       "      <td>C_ID_f112aa3381</td>\n",
       "      <td>0</td>\n",
       "      <td>2</td>\n",
       "      <td>-0.694390</td>\n",
       "      <td>2018-03-07 13:19:18</td>\n",
       "    </tr>\n",
       "    <tr>\n",
       "      <th>1963028</th>\n",
       "      <td>True</td>\n",
       "      <td>C_ID_bd97b86450</td>\n",
       "      <td>1</td>\n",
       "      <td>1</td>\n",
       "      <td>-0.621031</td>\n",
       "      <td>2018-03-05 12:04:56</td>\n",
       "    </tr>\n",
       "    <tr>\n",
       "      <th>1963029</th>\n",
       "      <td>True</td>\n",
       "      <td>C_ID_c0513fd84f</td>\n",
       "      <td>0</td>\n",
       "      <td>1</td>\n",
       "      <td>-0.656749</td>\n",
       "      <td>2018-03-09 14:47:05</td>\n",
       "    </tr>\n",
       "    <tr>\n",
       "      <th>1963030</th>\n",
       "      <td>True</td>\n",
       "      <td>C_ID_a935410f8e</td>\n",
       "      <td>0</td>\n",
       "      <td>2</td>\n",
       "      <td>-0.739395</td>\n",
       "      <td>2018-04-11 07:59:46</td>\n",
       "    </tr>\n",
       "  </tbody>\n",
       "</table>\n",
       "<p>1963031 rows × 6 columns</p>\n",
       "</div>"
      ],
      "text/plain": [
       "         authorized_flag          card_id  installments  month_lag  \\\n",
       "0                   True  C_ID_415bb3a509             1          1   \n",
       "1                   True  C_ID_415bb3a509             1          1   \n",
       "2                   True  C_ID_415bb3a509             1          2   \n",
       "3                   True  C_ID_415bb3a509             1          1   \n",
       "4                   True  C_ID_ef55cf8d4b             1          1   \n",
       "...                  ...              ...           ...        ...   \n",
       "1963026             True  C_ID_1320dee851             0          2   \n",
       "1963027             True  C_ID_f112aa3381             0          2   \n",
       "1963028             True  C_ID_bd97b86450             1          1   \n",
       "1963029             True  C_ID_c0513fd84f             0          1   \n",
       "1963030             True  C_ID_a935410f8e             0          2   \n",
       "\n",
       "         purchase_amount       purchase_date  \n",
       "0              -0.557574 2018-03-11 14:57:36  \n",
       "1              -0.569580 2018-03-19 18:53:37  \n",
       "2              -0.551037 2018-04-26 14:08:44  \n",
       "3              -0.671925 2018-03-07 09:43:21  \n",
       "4              -0.659904 2018-03-22 21:07:53  \n",
       "...                  ...                 ...  \n",
       "1963026        -0.701828 2018-04-06 14:36:52  \n",
       "1963027        -0.694390 2018-03-07 13:19:18  \n",
       "1963028        -0.621031 2018-03-05 12:04:56  \n",
       "1963029        -0.656749 2018-03-09 14:47:05  \n",
       "1963030        -0.739395 2018-04-11 07:59:46  \n",
       "\n",
       "[1963031 rows x 6 columns]"
      ]
     },
     "metadata": {},
     "output_type": "display_data"
    }
   ],
   "source": [
    "%time new_merchant_transactions_df = read_transactions_csv(f\"{SOURCE_PATH}/new_merchant_transactions.csv\")\n",
    "\n",
    "display(new_merchant_transactions_df)"
   ]
  },
  {
   "cell_type": "code",
   "execution_count": 16,
   "metadata": {},
   "outputs": [
    {
     "name": "stdout",
     "output_type": "stream",
     "text": [
      "CPU times: user 271 ms, sys: 166 ms, total: 438 ms\n",
      "Wall time: 439 ms\n"
     ]
    }
   ],
   "source": [
    "%%time\n",
    "\n",
    "transactions_df = pd.concat(\n",
    "    (\n",
    "        historical_transactions_df,\n",
    "        new_merchant_transactions_df,\n",
    "    ),\n",
    "    ignore_index=True,\n",
    "    copy=False,\n",
    ")\n",
    "\n",
    "del historical_transactions_df\n",
    "del new_merchant_transactions_df"
   ]
  },
  {
   "cell_type": "code",
   "execution_count": 17,
   "metadata": {},
   "outputs": [
    {
     "name": "stdout",
     "output_type": "stream",
     "text": [
      "CPU times: user 1.07 s, sys: 200 ms, total: 1.27 s\n",
      "Wall time: 1.28 s\n"
     ]
    }
   ],
   "source": [
    "%time transactions_df = reduce_mem_usage(transactions_df)"
   ]
  },
  {
   "cell_type": "code",
   "execution_count": 18,
   "metadata": {},
   "outputs": [
    {
     "name": "stdout",
     "output_type": "stream",
     "text": [
      "<class 'pandas.core.frame.DataFrame'>\n",
      "RangeIndex: 31075392 entries, 0 to 31075391\n",
      "Data columns (total 6 columns):\n",
      " #   Column           Dtype         \n",
      "---  ------           -----         \n",
      " 0   authorized_flag  bool          \n",
      " 1   card_id          object        \n",
      " 2   installments     int16         \n",
      " 3   month_lag        int8          \n",
      " 4   purchase_amount  float32       \n",
      " 5   purchase_date    datetime64[ns]\n",
      "dtypes: bool(1), datetime64[ns](1), float32(1), int16(1), int8(1), object(1)\n",
      "memory usage: 711.3+ MB\n"
     ]
    }
   ],
   "source": [
    "transactions_df.info()"
   ]
  },
  {
   "cell_type": "code",
   "execution_count": 19,
   "metadata": {},
   "outputs": [
    {
     "name": "stdout",
     "output_type": "stream",
     "text": [
      "CPU times: user 1.49 s, sys: 1.11 s, total: 2.6 s\n",
      "Wall time: 6.22 s\n"
     ]
    }
   ],
   "source": [
    "%time transactions_df.to_feather(f\"{TARGET_PATH}/transactions.feather\")"
   ]
  }
 ],
 "metadata": {
  "jupytext": {
   "formats": "ipynb,py:light"
  },
  "kernelspec": {
   "display_name": "Python 3",
   "language": "python",
   "name": "python3"
  },
  "language_info": {
   "codemirror_mode": {
    "name": "ipython",
    "version": 3
   },
   "file_extension": ".py",
   "mimetype": "text/x-python",
   "name": "python",
   "nbconvert_exporter": "python",
   "pygments_lexer": "ipython3",
   "version": "3.8.2"
  }
 },
 "nbformat": 4,
 "nbformat_minor": 4
}
