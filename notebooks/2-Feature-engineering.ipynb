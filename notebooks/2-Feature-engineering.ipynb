{
 "cells": [
  {
   "cell_type": "code",
   "execution_count": 1,
   "metadata": {},
   "outputs": [],
   "source": [
    "%run 0-Base.ipynb"
   ]
  },
  {
   "cell_type": "code",
   "execution_count": 2,
   "metadata": {},
   "outputs": [],
   "source": [
    "SOURCE_PATH = f\"{DATA_PATH}/1-reformatted\"\n",
    "TARGET_PATH = f\"{DATA_PATH}/2-feature-engineered\""
   ]
  },
  {
   "cell_type": "code",
   "execution_count": 3,
   "metadata": {},
   "outputs": [
    {
     "name": "stdout",
     "output_type": "stream",
     "text": [
      "CPU times: user 1.17 s, sys: 718 ms, total: 1.89 s\n",
      "Wall time: 3.61 s\n"
     ]
    }
   ],
   "source": [
    "%time transactions_df = pd.read_feather(f\"{SOURCE_PATH}/transactions.feather\")"
   ]
  },
  {
   "cell_type": "code",
   "execution_count": 4,
   "metadata": {},
   "outputs": [
    {
     "name": "stdout",
     "output_type": "stream",
     "text": [
      "CPU times: user 103 ms, sys: 25.8 ms, total: 129 ms\n",
      "Wall time: 130 ms\n",
      "CPU times: user 90.3 ms, sys: 46.8 ms, total: 137 ms\n",
      "Wall time: 134 ms\n"
     ]
    }
   ],
   "source": [
    "%time transactions_df[    \"authorized_purchase_amount\"] = transactions_df.purchase_amount.where( transactions_df.authorized_flag)\n",
    "%time transactions_df[\"not_authorized_purchase_amount\"] = transactions_df.purchase_amount.where(~transactions_df.authorized_flag)"
   ]
  },
  {
   "cell_type": "code",
   "execution_count": 5,
   "metadata": {},
   "outputs": [
    {
     "name": "stdout",
     "output_type": "stream",
     "text": [
      "CPU times: user 4.73 s, sys: 90.1 ms, total: 4.82 s\n",
      "Wall time: 4.82 s\n"
     ]
    }
   ],
   "source": [
    "%%time\n",
    "\n",
    "transactions_df[\"purchase_year\" ] = transactions_df.purchase_date.dt.year\n",
    "transactions_df[\"purchase_month\"] = transactions_df.purchase_date.dt.month"
   ]
  },
  {
   "cell_type": "code",
   "execution_count": 6,
   "metadata": {},
   "outputs": [
    {
     "name": "stdout",
     "output_type": "stream",
     "text": [
      "CPU times: user 1.94 s, sys: 653 ms, total: 2.59 s\n",
      "Wall time: 2.59 s\n"
     ]
    }
   ],
   "source": [
    "%time transactions_df = pd.get_dummies(transactions_df, columns=[\"installments\"], dtype=\"int8\")"
   ]
  },
  {
   "cell_type": "code",
   "execution_count": 7,
   "metadata": {},
   "outputs": [],
   "source": [
    "agg = {\n",
    "    \"authorized_flag\": [\"count\", \"mean\"],\n",
    "\n",
    "    \"purchase_year\":  [\"first\"],\n",
    "    \"purchase_month\": [\"first\"],\n",
    "\n",
    "    \"purchase_amount\":                [\"min\", \"mean\", \"max\"],\n",
    "    \"authorized_purchase_amount\":     [\"min\", \"mean\", \"max\"],\n",
    "    \"not_authorized_purchase_amount\": [\"min\", \"mean\", \"max\"],\n",
    "\n",
    "    \"installments_-1\":  [\"mean\"],\n",
    "    \"installments_0\":   [\"mean\"],\n",
    "    \"installments_1\":   [\"mean\"],\n",
    "    \"installments_2\":   [\"mean\"],\n",
    "    \"installments_3\":   [\"mean\"],\n",
    "    \"installments_4\":   [\"mean\"],\n",
    "    \"installments_5\":   [\"mean\"],\n",
    "    \"installments_6\":   [\"mean\"],\n",
    "    \"installments_7\":   [\"mean\"],\n",
    "    \"installments_8\":   [\"mean\"],\n",
    "    \"installments_9\":   [\"mean\"],\n",
    "    \"installments_10\":  [\"mean\"],\n",
    "    \"installments_11\":  [\"mean\"],\n",
    "    \"installments_12\":  [\"mean\"],\n",
    "    \"installments_999\": [\"mean\"],\n",
    "}"
   ]
  },
  {
   "cell_type": "code",
   "execution_count": 8,
   "metadata": {},
   "outputs": [
    {
     "name": "stdout",
     "output_type": "stream",
     "text": [
      "CPU times: user 16.2 s, sys: 2.38 s, total: 18.5 s\n",
      "Wall time: 18.6 s\n"
     ]
    }
   ],
   "source": [
    "%time aggregated_transactions_df = transactions_df.groupby([\"card_id\", \"month_lag\"]).agg(agg)\n",
    "aggregated_transactions_df.columns = [f\"{col}_{fn}\" for col, fn in aggregated_transactions_df.columns]\n",
    "aggregated_transactions_df = aggregated_transactions_df.rename(columns={\"authorized_flag_count\": \"count\"}).reset_index()"
   ]
  },
  {
   "cell_type": "markdown",
   "metadata": {},
   "source": [
    "Define a synthetic feature - *season of year* - one of (winter, spring, summer, autumn):"
   ]
  },
  {
   "cell_type": "code",
   "execution_count": 9,
   "metadata": {},
   "outputs": [
    {
     "name": "stdout",
     "output_type": "stream",
     "text": [
      "CPU times: user 60.4 ms, sys: 86 µs, total: 60.5 ms\n",
      "Wall time: 60.1 ms\n"
     ]
    }
   ],
   "source": [
    "%time aggregated_transactions_df[\"season\"] = (aggregated_transactions_df[\"purchase_month_first\"] % 12 + 3) // 3"
   ]
  },
  {
   "cell_type": "code",
   "execution_count": 10,
   "metadata": {},
   "outputs": [
    {
     "name": "stdout",
     "output_type": "stream",
     "text": [
      "<class 'pandas.core.frame.DataFrame'>\n",
      "RangeIndex: 3044128 entries, 0 to 3044127\n",
      "Data columns (total 31 columns):\n",
      "card_id                                object\n",
      "month_lag                              int64\n",
      "count                                  int64\n",
      "authorized_flag_mean                   float64\n",
      "purchase_year_first                    int64\n",
      "purchase_month_first                   int64\n",
      "purchase_amount_min                    float32\n",
      "purchase_amount_mean                   float32\n",
      "purchase_amount_max                    float32\n",
      "authorized_purchase_amount_min         float32\n",
      "authorized_purchase_amount_mean        float32\n",
      "authorized_purchase_amount_max         float32\n",
      "not_authorized_purchase_amount_min     float32\n",
      "not_authorized_purchase_amount_mean    float32\n",
      "not_authorized_purchase_amount_max     float32\n",
      "installments_-1_mean                   float64\n",
      "installments_0_mean                    float64\n",
      "installments_1_mean                    float64\n",
      "installments_2_mean                    float64\n",
      "installments_3_mean                    float64\n",
      "installments_4_mean                    float64\n",
      "installments_5_mean                    float64\n",
      "installments_6_mean                    float64\n",
      "installments_7_mean                    float64\n",
      "installments_8_mean                    float64\n",
      "installments_9_mean                    float64\n",
      "installments_10_mean                   float64\n",
      "installments_11_mean                   float64\n",
      "installments_12_mean                   float64\n",
      "installments_999_mean                  float64\n",
      "season                                 int64\n",
      "dtypes: float32(9), float64(16), int64(5), object(1)\n",
      "memory usage: 615.5+ MB\n"
     ]
    }
   ],
   "source": [
    "aggregated_transactions_df.info()"
   ]
  },
  {
   "cell_type": "code",
   "execution_count": 11,
   "metadata": {},
   "outputs": [
    {
     "name": "stdout",
     "output_type": "stream",
     "text": [
      "CPU times: user 689 ms, sys: 326 ms, total: 1.02 s\n",
      "Wall time: 1.02 s\n"
     ]
    }
   ],
   "source": [
    "from elo_competition.data import reduce_mem_usage\n",
    "\n",
    "%time aggregated_transactions_df = reduce_mem_usage(aggregated_transactions_df)"
   ]
  },
  {
   "cell_type": "code",
   "execution_count": 12,
   "metadata": {},
   "outputs": [
    {
     "name": "stdout",
     "output_type": "stream",
     "text": [
      "<class 'pandas.core.frame.DataFrame'>\n",
      "RangeIndex: 3044128 entries, 0 to 3044127\n",
      "Data columns (total 31 columns):\n",
      "card_id                                object\n",
      "month_lag                              int8\n",
      "count                                  int16\n",
      "authorized_flag_mean                   float32\n",
      "purchase_year_first                    int16\n",
      "purchase_month_first                   int8\n",
      "purchase_amount_min                    float32\n",
      "purchase_amount_mean                   float32\n",
      "purchase_amount_max                    float32\n",
      "authorized_purchase_amount_min         float32\n",
      "authorized_purchase_amount_mean        float32\n",
      "authorized_purchase_amount_max         float32\n",
      "not_authorized_purchase_amount_min     float32\n",
      "not_authorized_purchase_amount_mean    float32\n",
      "not_authorized_purchase_amount_max     float32\n",
      "installments_-1_mean                   float32\n",
      "installments_0_mean                    float32\n",
      "installments_1_mean                    float32\n",
      "installments_2_mean                    float32\n",
      "installments_3_mean                    float32\n",
      "installments_4_mean                    float32\n",
      "installments_5_mean                    float32\n",
      "installments_6_mean                    float32\n",
      "installments_7_mean                    float32\n",
      "installments_8_mean                    float32\n",
      "installments_9_mean                    float32\n",
      "installments_10_mean                   float32\n",
      "installments_11_mean                   float32\n",
      "installments_12_mean                   float32\n",
      "installments_999_mean                  float32\n",
      "season                                 int8\n",
      "dtypes: float32(25), int16(2), int8(3), object(1)\n",
      "memory usage: 333.9+ MB\n"
     ]
    }
   ],
   "source": [
    "aggregated_transactions_df.info()"
   ]
  },
  {
   "cell_type": "code",
   "execution_count": 13,
   "metadata": {},
   "outputs": [
    {
     "name": "stdout",
     "output_type": "stream",
     "text": [
      "CPU times: user 535 ms, sys: 218 ms, total: 753 ms\n",
      "Wall time: 382 ms\n"
     ]
    }
   ],
   "source": [
    "%time aggregated_transactions_df.to_feather(f\"{TARGET_PATH}/aggregated-transactions-by-card-id.feather\")"
   ]
  }
 ],
 "metadata": {
  "jupytext": {
   "formats": "ipynb,py:light"
  },
  "kernelspec": {
   "display_name": "Python 3",
   "language": "python",
   "name": "python3"
  },
  "language_info": {
   "codemirror_mode": {
    "name": "ipython",
    "version": 3
   },
   "file_extension": ".py",
   "mimetype": "text/x-python",
   "name": "python",
   "nbconvert_exporter": "python",
   "pygments_lexer": "ipython3",
   "version": "3.7.5"
  }
 },
 "nbformat": 4,
 "nbformat_minor": 4
}
