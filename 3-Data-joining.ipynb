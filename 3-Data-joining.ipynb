{
 "cells": [
  {
   "cell_type": "code",
   "execution_count": 2,
   "metadata": {},
   "outputs": [],
   "source": [
    "%run 0-Base.py"
   ]
  },
  {
   "cell_type": "code",
   "execution_count": 3,
   "metadata": {},
   "outputs": [],
   "source": [
    "SOURCE_PATH = f'{DATA_PATH}/2-reformatted'\n",
    "TARGET_PATH = f'{DATA_PATH}/3-joined'"
   ]
  },
  {
   "cell_type": "code",
   "execution_count": 4,
   "metadata": {},
   "outputs": [],
   "source": [
    "from glob import glob\n",
    "\n",
    "def join_reformatted_columns(source_directory_path):\n",
    "    source_file_paths = sorted(glob(f'{source_directory_path}/*.feather'))\n",
    "    source_dfs = [pd.read_feather(source_file_path) for source_file_path in source_file_paths]\n",
    "\n",
    "    # check that all the data-frames have the same number of rows\n",
    "    assert len(set(map(lambda df: df.shape[0], source_dfs))) == 1\n",
    "\n",
    "    return pd.concat(source_dfs, axis=1)"
   ]
  },
  {
   "cell_type": "markdown",
   "metadata": {},
   "source": [
    "***"
   ]
  },
  {
   "cell_type": "code",
   "execution_count": 5,
   "metadata": {},
   "outputs": [],
   "source": [
    "historical_transactions = join_reformatted_columns(f'{SOURCE_PATH}/historical_transactions')\n",
    "assert len(historical_transactions.columns) == (14 + 3)"
   ]
  },
  {
   "cell_type": "code",
   "execution_count": 6,
   "metadata": {},
   "outputs": [
    {
     "name": "stdout",
     "output_type": "stream",
     "text": [
      "<class 'pandas.core.frame.DataFrame'>\n",
      "RangeIndex: 29112361 entries, 0 to 29112360\n",
      "Data columns (total 17 columns):\n",
      "authorized_flag         bool\n",
      "card_id                 category\n",
      "category_1              bool\n",
      "category_2              int8\n",
      "category_2_null         bool\n",
      "category_3              int8\n",
      "category_3_null         bool\n",
      "city_id                 int16\n",
      "installments            int16\n",
      "merchant_category_id    int16\n",
      "merchant_id             category\n",
      "merchant_id_null        bool\n",
      "month_lag               int8\n",
      "purchase_amount         float32\n",
      "purchase_date           datetime64[ns]\n",
      "state_id                int8\n",
      "subsector_id            int8\n",
      "dtypes: bool(5), category(2), datetime64[ns](1), float32(1), int16(3), int8(5)\n",
      "memory usage: 1.0 GB\n"
     ]
    }
   ],
   "source": [
    "historical_transactions.info()"
   ]
  },
  {
   "cell_type": "code",
   "execution_count": 7,
   "metadata": {},
   "outputs": [
    {
     "name": "stdout",
     "output_type": "stream",
     "text": [
      "CPU times: user 603 ms, sys: 553 ms, total: 1.16 s\n",
      "Wall time: 2.72 s\n"
     ]
    }
   ],
   "source": [
    "%time historical_transactions.to_feather(f'{TARGET_PATH}/historical_transactions.feather')"
   ]
  },
  {
   "cell_type": "markdown",
   "metadata": {},
   "source": [
    "***"
   ]
  },
  {
   "cell_type": "code",
   "execution_count": 9,
   "metadata": {},
   "outputs": [],
   "source": [
    "new_merchant_transactions = join_reformatted_columns(f'{SOURCE_PATH}/new_merchant_transactions')\n",
    "assert len(new_merchant_transactions.columns) == (14 + 3)"
   ]
  },
  {
   "cell_type": "code",
   "execution_count": 10,
   "metadata": {},
   "outputs": [
    {
     "name": "stdout",
     "output_type": "stream",
     "text": [
      "<class 'pandas.core.frame.DataFrame'>\n",
      "RangeIndex: 1963031 entries, 0 to 1963030\n",
      "Data columns (total 17 columns):\n",
      "authorized_flag         bool\n",
      "card_id                 category\n",
      "category_1              bool\n",
      "category_2              int8\n",
      "category_2_null         bool\n",
      "category_3              int8\n",
      "category_3_null         bool\n",
      "city_id                 int16\n",
      "installments            int16\n",
      "merchant_category_id    int16\n",
      "merchant_id             category\n",
      "merchant_id_null        bool\n",
      "month_lag               int8\n",
      "purchase_amount         float32\n",
      "purchase_date           datetime64[ns]\n",
      "state_id                int8\n",
      "subsector_id            int8\n",
      "dtypes: bool(5), category(2), datetime64[ns](1), float32(1), int16(3), int8(5)\n",
      "memory usage: 91.3 MB\n"
     ]
    }
   ],
   "source": [
    "new_merchant_transactions.info()"
   ]
  },
  {
   "cell_type": "code",
   "execution_count": 11,
   "metadata": {},
   "outputs": [
    {
     "name": "stdout",
     "output_type": "stream",
     "text": [
      "CPU times: user 60.7 ms, sys: 35.9 ms, total: 96.6 ms\n",
      "Wall time: 55.9 ms\n"
     ]
    }
   ],
   "source": [
    "%time new_merchant_transactions.to_feather(f'{TARGET_PATH}/new_merchant_transactions.feather')"
   ]
  }
 ],
 "metadata": {
  "jupytext": {
   "formats": "ipynb,py:light"
  },
  "kernelspec": {
   "display_name": "Python 3",
   "language": "python",
   "name": "python3"
  },
  "language_info": {
   "codemirror_mode": {
    "name": "ipython",
    "version": 3
   },
   "file_extension": ".py",
   "mimetype": "text/x-python",
   "name": "python",
   "nbconvert_exporter": "python",
   "pygments_lexer": "ipython3",
   "version": "3.7.3"
  }
 },
 "nbformat": 4,
 "nbformat_minor": 4
}
