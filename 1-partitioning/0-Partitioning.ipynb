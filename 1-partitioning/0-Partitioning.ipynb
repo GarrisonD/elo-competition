{
 "cells": [
  {
   "cell_type": "code",
   "execution_count": 1,
   "metadata": {},
   "outputs": [],
   "source": [
    "%run ../0-utils/0-Base.ipynb"
   ]
  },
  {
   "cell_type": "markdown",
   "metadata": {},
   "source": [
    "Perform partitioning of files with transactions:"
   ]
  },
  {
   "cell_type": "code",
   "execution_count": 3,
   "metadata": {
    "scrolled": false
   },
   "outputs": [
    {
     "name": "stdout",
     "output_type": "stream",
     "text": [
      "CPU times: user 5min 16s, sys: 4.18 s, total: 5min 20s\n",
      "Wall time: 5min 21s\n"
     ]
    }
   ],
   "source": [
    "%%time\n",
    "\n",
    "import os\n",
    "\n",
    "for clazz, n_parts in TRANSACTIONS_N_PARTS.items():\n",
    "    for df in pd.read_csv(f\"../data/raw/{clazz}_transactions.csv\", chunksize=500_000):\n",
    "        for part, part_df in add_part(df, n_parts).groupby(\"part\"):\n",
    "            part_file_path = f\"../data/1-partitioned/%s.%03d.csv\" % (clazz, part)\n",
    "            mode, header = (\"w\", True) if not os.path.isfile(part_file_path) else (\"a\", False)\n",
    "            part_df.drop(\"part\", axis=1).to_csv(part_file_path, mode=mode, header=header, index=False)"
   ]
  }
 ],
 "metadata": {
  "kernelspec": {
   "display_name": "Python 3",
   "language": "python",
   "name": "python3"
  },
  "language_info": {
   "codemirror_mode": {
    "name": "ipython",
    "version": 3
   },
   "file_extension": ".py",
   "mimetype": "text/x-python",
   "name": "python",
   "nbconvert_exporter": "python",
   "pygments_lexer": "ipython3",
   "version": "3.6.8"
  }
 },
 "nbformat": 4,
 "nbformat_minor": 2
}
