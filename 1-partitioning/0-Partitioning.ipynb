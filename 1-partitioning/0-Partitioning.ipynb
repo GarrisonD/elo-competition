{
 "cells": [
  {
   "cell_type": "code",
   "execution_count": 1,
   "metadata": {},
   "outputs": [],
   "source": [
    "%run ../0-utils/0-Base.ipynb"
   ]
  },
  {
   "cell_type": "markdown",
   "metadata": {},
   "source": [
    "Perform partitioning of files with transactions:"
   ]
  },
  {
   "cell_type": "code",
   "execution_count": 2,
   "metadata": {
    "scrolled": false
   },
   "outputs": [
    {
     "name": "stdout",
     "output_type": "stream",
     "text": [
      "CPU times: user 5min 45s, sys: 3.91 s, total: 5min 49s\n",
      "Wall time: 5min 49s\n"
     ]
    }
   ],
   "source": [
    "%%time\n",
    "\n",
    "import os\n",
    "\n",
    "def process_transactions_file(clazz):\n",
    "    path = f\"../data/raw/{clazz}_transactions.csv\"\n",
    "    \n",
    "    for df in pd.read_csv(path, chunksize=500_000):\n",
    "        df[\"new_merchant\"] = 1 if \"new\" == clazz else 0\n",
    "        \n",
    "        for part, part_df in add_part(df).groupby(\"part\"):\n",
    "            part_dir_path = \"../data/1-partitioned/%03d\" % part\n",
    "            part_file_path = f\"{part_dir_path}/transactions.csv\"\n",
    "\n",
    "            if not os.path.exists(part_dir_path): os.mkdir(part_dir_path)\n",
    "            mode, header = (\"w\", True) if not os.path.isfile(part_file_path) else (\"a\", False)\n",
    "            part_df.drop(\"part\", axis=1).to_csv(part_file_path, mode=mode, header=header, index=False)\n",
    "\n",
    "process_transactions_file(\"old\")\n",
    "process_transactions_file(\"new\")"
   ]
  },
  {
   "cell_type": "markdown",
   "metadata": {},
   "source": [
    "Perform partitioning of files with customers:"
   ]
  },
  {
   "cell_type": "code",
   "execution_count": 3,
   "metadata": {},
   "outputs": [
    {
     "name": "stdout",
     "output_type": "stream",
     "text": [
      "CPU times: user 2.38 s, sys: 27.9 ms, total: 2.41 s\n",
      "Wall time: 2.41 s\n"
     ]
    }
   ],
   "source": [
    "%%time\n",
    "\n",
    "import os\n",
    "\n",
    "def process_customers_file(clazz):\n",
    "    df = pd.read_csv(f\"../data/raw/{clazz}.csv\")\n",
    "    \n",
    "    for part, part_df in add_part(df).groupby(\"part\"):\n",
    "        part_dir_path = \"../data/1-partitioned/%03d\" % part\n",
    "        part_file_path = \"%s/%s.csv\" % (part_dir_path, clazz)\n",
    "        \n",
    "        if not os.path.exists(part_dir_path): os.mkdir(part_dir_path)\n",
    "        part_df.drop(\"part\", axis=1).to_csv(part_file_path, index=False)\n",
    "        \n",
    "process_customers_file(\"train\")\n",
    "process_customers_file(\"test\")"
   ]
  }
 ],
 "metadata": {
  "jupytext": {
   "metadata_filter": {
    "cells": {
     "additional": [
      "ExecuteTime"
     ]
    }
   },
   "text_representation": {
    "extension": ".py",
    "format_name": "light",
    "format_version": "1.3",
    "jupytext_version": "0.8.6"
   }
  },
  "kernelspec": {
   "display_name": "Python 3",
   "language": "python",
   "name": "python3"
  },
  "language_info": {
   "codemirror_mode": {
    "name": "ipython",
    "version": 3
   },
   "file_extension": ".py",
   "mimetype": "text/x-python",
   "name": "python",
   "nbconvert_exporter": "python",
   "pygments_lexer": "ipython3",
   "version": "3.6.8"
  }
 },
 "nbformat": 4,
 "nbformat_minor": 2
}
