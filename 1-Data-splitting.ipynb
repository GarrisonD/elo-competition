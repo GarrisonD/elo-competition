{
 "cells": [
  {
   "cell_type": "code",
   "execution_count": null,
   "metadata": {},
   "outputs": [],
   "source": [
    "%run 0-Base.py"
   ]
  },
  {
   "cell_type": "markdown",
   "metadata": {},
   "source": [
    "For example, we have a `test.csv` file with columns `a`, `b`, and `c`.\n",
    "\n",
    "`split_by_columns` function creates files `a.csv`, `b.csv`, and `c.csv`."
   ]
  },
  {
   "cell_type": "code",
   "execution_count": null,
   "metadata": {},
   "outputs": [],
   "source": [
    "def split_by_columns(source_file_path, target_directory_path):\n",
    "    files = []\n",
    "    \n",
    "    try:\n",
    "        source_file = open(source_file_path)\n",
    "        files.append(source_file)\n",
    "        \n",
    "        columns = source_file.readline().strip().split(',')\n",
    "        \n",
    "        target_files = [open(f'{target_directory_path}/{column}.csv', 'w') for column in columns]\n",
    "        files.extend(target_files)\n",
    "        \n",
    "        for column, file in zip(columns, target_files):\n",
    "            file.write(column + '\\n')\n",
    "            \n",
    "        for row in tqdm(source_file):\n",
    "            values = row.strip().split(',')\n",
    "            assert len(values) == len(columns)\n",
    "\n",
    "            for value, file in zip(values, target_files):\n",
    "                if value == '': value = 'NULL'\n",
    "                \n",
    "                file.write(value + '\\n')\n",
    "    finally:\n",
    "        for file in files:\n",
    "            file.close()"
   ]
  },
  {
   "cell_type": "code",
   "execution_count": null,
   "metadata": {},
   "outputs": [],
   "source": [
    "split_by_columns(f'{DATA_PATH}/raw/historical_transactions.csv',\n",
    "                 f'{DATA_PATH}/1-splitted/historical_transactions')"
   ]
  },
  {
   "cell_type": "code",
   "execution_count": null,
   "metadata": {},
   "outputs": [],
   "source": [
    "split_by_columns(f'{DATA_PATH}/raw/new_merchant_transactions.csv',\n",
    "                 f'{DATA_PATH}/1-splitted/new_merchant_transactions')"
   ]
  }
 ],
 "metadata": {
  "jupytext": {
   "text_representation": {
    "extension": ".py",
    "format_name": "light",
    "format_version": "1.4",
    "jupytext_version": "1.2.4"
   }
  },
  "kernelspec": {
   "display_name": "Python 3",
   "language": "python",
   "name": "python3"
  },
  "language_info": {
   "codemirror_mode": {
    "name": "ipython",
    "version": 3
   },
   "file_extension": ".py",
   "mimetype": "text/x-python",
   "name": "python",
   "nbconvert_exporter": "python",
   "pygments_lexer": "ipython3",
   "version": "3.7.3"
  }
 },
 "nbformat": 4,
 "nbformat_minor": 4
}
