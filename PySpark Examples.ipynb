{
 "cells": [
  {
   "cell_type": "code",
   "execution_count": 1,
   "metadata": {},
   "outputs": [],
   "source": [
    "from pyspark.sql.types import *\n",
    "from pyspark.sql.functions import *"
   ]
  },
  {
   "cell_type": "code",
   "execution_count": 2,
   "metadata": {},
   "outputs": [
    {
     "name": "stdout",
     "output_type": "stream",
     "text": [
      "CPU times: user 2.91 ms, sys: 0 ns, total: 2.91 ms\n",
      "Wall time: 1.75 s\n"
     ]
    }
   ],
   "source": [
    "%%time\n",
    "\n",
    "schema = StructType([\n",
    "    StructField(\"authorized_flag\",      ShortType(),     nullable=False),\n",
    "    StructField(\"card_id\",              StringType(),    nullable=False),\n",
    "    StructField(\"city_id\",              ShortType(),     nullable=False),\n",
    "    StructField(\"category_1\",           ShortType(),     nullable=False),\n",
    "    StructField(\"installments\",         ShortType(),     nullable=False),\n",
    "    StructField(\"category_3\",           StringType(),    nullable=True),\n",
    "    StructField(\"merchant_category_id\", ShortType(),     nullable=False),\n",
    "    StructField(\"merchant_id\",          StringType(),    nullable=True),\n",
    "    StructField(\"month_lag\",            ShortType(),     nullable=False),\n",
    "    StructField(\"purchase_amount\",      FloatType(),     nullable=False),\n",
    "    StructField(\"purchase_date\",        TimestampType(), nullable=False),\n",
    "    StructField(\"category_2\",           FloatType(),     nullable=True),\n",
    "    StructField(\"state_id\",             ShortType(),     nullable=False),\n",
    "    StructField(\"subsector_id\",         ShortType(),     nullable=False),\n",
    "])\n",
    "\n",
    "df = spark.read.csv(\"data/v0-preprocessed/old/chunk.*.csv\", header=True, schema=schema)"
   ]
  },
  {
   "cell_type": "code",
   "execution_count": 3,
   "metadata": {
    "scrolled": false
   },
   "outputs": [
    {
     "name": "stdout",
     "output_type": "stream",
     "text": [
      "CPU times: user 1.69 ms, sys: 4 ms, total: 5.69 ms\n",
      "Wall time: 650 ms\n"
     ]
    },
    {
     "data": {
      "text/plain": [
       "Row(authorized_flag='1', card_id='C_ID_86cdaf3fc9', city_id=3, category_1='0', installments=1, category_3='2', merchant_category_id=506, merchant_id='M_ID_840d8d327c', month_lag=-4, purchase_amount=-0.7055999040603638, purchase_date=datetime.datetime(2017, 8, 10, 15, 27, 4), category_2=1.0, state_id=16, subsector_id=30)"
      ]
     },
     "execution_count": 3,
     "metadata": {},
     "output_type": "execute_result"
    }
   ],
   "source": [
    "%%time\n",
    "\n",
    "df.head()"
   ]
  },
  {
   "cell_type": "code",
   "execution_count": 4,
   "metadata": {},
   "outputs": [
    {
     "name": "stdout",
     "output_type": "stream",
     "text": [
      "-RECORD 0----------------------\n",
      " authorized_flag      | 0      \n",
      " card_id              | 0      \n",
      " city_id              | 0      \n",
      " category_1           | 0      \n",
      " installments         | 0      \n",
      " category_3           | 0      \n",
      " merchant_category_id | 0      \n",
      " merchant_id          | 138481 \n",
      " month_lag            | 0      \n",
      " purchase_amount      | 0      \n",
      " purchase_date        | 0      \n",
      " category_2           | 0      \n",
      " state_id             | 0      \n",
      " subsector_id         | 0      \n",
      "\n",
      "CPU times: user 8.82 ms, sys: 7.82 ms, total: 16.6 ms\n",
      "Wall time: 40.7 s\n"
     ]
    }
   ],
   "source": [
    "%%time\n",
    "\n",
    "features = [sum(col(c).isNull().cast(\"int\")).alias(c) for c in df.columns]\n",
    "\n",
    "df.select(features).show(vertical=True)"
   ]
  },
  {
   "cell_type": "code",
   "execution_count": 7,
   "metadata": {},
   "outputs": [
    {
     "name": "stdout",
     "output_type": "stream",
     "text": [
      "+----------+\n",
      "|category_2|\n",
      "+----------+\n",
      "|       5.0|\n",
      "|      -1.0|\n",
      "|       2.0|\n",
      "|       3.0|\n",
      "|       1.0|\n",
      "|       4.0|\n",
      "+----------+\n",
      "\n",
      "CPU times: user 5.21 ms, sys: 120 µs, total: 5.33 ms\n",
      "Wall time: 8.29 s\n"
     ]
    }
   ],
   "source": [
    "%%time\n",
    "\n",
    "feature = \"category_2\"\n",
    "\n",
    "df.select(feature).distinct().show()"
   ]
  }
 ],
 "metadata": {
  "kernelspec": {
   "display_name": "Python 3",
   "language": "python",
   "name": "python3"
  },
  "language_info": {
   "codemirror_mode": {
    "name": "ipython",
    "version": 3
   },
   "file_extension": ".py",
   "mimetype": "text/x-python",
   "name": "python",
   "nbconvert_exporter": "python",
   "pygments_lexer": "ipython3",
   "version": "3.7.2"
  }
 },
 "nbformat": 4,
 "nbformat_minor": 2
}
